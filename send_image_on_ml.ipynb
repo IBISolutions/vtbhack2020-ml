{
  "nbformat": 4,
  "nbformat_minor": 0,
  "metadata": {
    "colab": {
      "name": "Untitled1.ipynb",
      "provenance": [],
      "collapsed_sections": []
    },
    "kernelspec": {
      "name": "python3",
      "display_name": "Python 3"
    },
    "accelerator": "GPU"
  },
  "cells": [
    {
      "cell_type": "code",
      "metadata": {
        "id": "yX0ZbimhYdlT",
        "outputId": "92b92f93-3141-4ce7-b04e-5e14ea3c97b1",
        "colab": {
          "base_uri": "https://localhost:8080/",
          "height": 56
        }
      },
      "source": [
        "import tensorflow as tf\n",
        "from keras import callbacks\n",
        "from keras import optimizers\n",
        "from keras.engine import Model\n",
        "from keras.layers import Dropout, Flatten, Dense\n",
        "from keras.optimizers import Adam\n",
        "from keras.applications import VGG16\n",
        "from keras.utils import to_categorical\n",
        "import numpy as np\n",
        "import os\n",
        "from sklearn.metrics import confusion_matrix\n",
        "import seaborn as sn\n",
        "\n",
        "sn.set(font_scale=1.4)\n",
        "from sklearn.utils import shuffle\n",
        "import matplotlib.pyplot as plt\n",
        "import cv2\n",
        "import tensorflow as tf\n",
        "from tqdm import tqdm\n",
        "\n",
        "from PIL import Image\n",
        "import numpy as np\n",
        "from skimage import transform\n",
        "from keras.preprocessing import image\n",
        "\n",
        "IMAGE_SIZE = (48, 48)\n",
        "\n",
        "\n",
        "def load_data_test():\n",
        "    try:\n",
        "        import numpy as np\n",
        "        from keras.preprocessing import image\n",
        "\n",
        "        img_width, img_height = 48, 48\n",
        "        img = image.load_img('/content/drive/My Drive/VTB Test/img_for_ml.jpg', target_size=(img_width, img_height))\n",
        "        img = image.img_to_array(img)\n",
        "        img = np.expand_dims(img, axis=0)\n",
        "        return img\n",
        "    except Exception as error:\n",
        "        print(\"img:\", error)\n",
        "\n",
        "# Загружаем готовую модель\n",
        "model = tf.keras.models.load_model('/content/drive/My Drive/VTB_Models/new_model.h5')\n",
        "\n",
        "#test_images = load_data_test()\n",
        "\n",
        "# load image\n",
        "img_width, img_height = 48, 48\n",
        "img = image.load_img('/content/drive/My Drive/VTB Test/img_for_ml.jpg', target_size=(img_width, img_height))\n",
        "img = image.img_to_array(img)\n",
        "img = np.expand_dims(img, axis=0)\n",
        "\n",
        "predictions = model.predict(img)[0]\n",
        "\n",
        "# value0 = remove_exponent(predictions[0])\n",
        "# value1 = remove_exponent(predictions[1])\n",
        "# value2 = remove_exponent(predictions[2])\n",
        "# value3 = remove_exponent(predictions[3])\n",
        "# value4 = remove_exponent(predictions[4])\n",
        "\n",
        "# for not remove_exponent()\n",
        "value0 = predictions[0]\n",
        "value1 = predictions[1]\n",
        "value2 = predictions[2]\n",
        "value3 = predictions[3]\n",
        "value4 = predictions[4]\n",
        "\n",
        "#predictions = model.predict(test_images)\n",
        "\n",
        "#print(\"predictions: \", predictions)\n",
        "#print(\"predictions: \", np.argmax(predictions[0]))\n",
        "\n",
        "dict_predictions = {\n",
        "            \"Hyundai SOLARIS\": float(value0),\n",
        "            \"KIA Rio\": float(value1),\n",
        "            \"ŠKODA OCTAVIA\": float(value2),\n",
        "            \"Volkswagen Polo\": float(value3),\n",
        "            \"Volkswagen Tiguan\": float(value4)\n",
        "        }\n",
        "\n",
        "print(\"dict_predictions:\", dict_predictions)"
      ],
      "execution_count": 2,
      "outputs": [
        {
          "output_type": "stream",
          "text": [
            "dict_predictions: {'Hyundai SOLARIS': 0.0, 'KIA Rio': 0.0, 'ŠKODA OCTAVIA': 0.0, 'Volkswagen Polo': 1.0, 'Volkswagen Tiguan': 0.0}\n"
          ],
          "name": "stdout"
        }
      ]
    }
  ]
}